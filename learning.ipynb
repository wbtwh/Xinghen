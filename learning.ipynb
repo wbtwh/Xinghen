{
 "metadata": {
  "language_info": {
   "codemirror_mode": {
    "name": "ipython",
    "version": 3
   },
   "file_extension": ".py",
   "mimetype": "text/x-python",
   "name": "python",
   "nbconvert_exporter": "python",
   "pygments_lexer": "ipython3",
   "version": "3.7.7-final"
  },
  "orig_nbformat": 2,
  "kernelspec": {
   "name": "python_defaultSpec_1600352176100",
   "display_name": "Python 3.7.7 64-bit"
  }
 },
 "nbformat": 4,
 "nbformat_minor": 2,
 "cells": [
  {
   "cell_type": "markdown",
   "metadata": {},
   "source": [
    "# asyncio"
   ]
  },
  {
   "cell_type": "markdown",
   "metadata": {},
   "source": [
    "## 快速上手"
   ]
  },
  {
   "cell_type": "code",
   "execution_count": 5,
   "metadata": {
    "tags": []
   },
   "outputs": [
    {
     "output_type": "stream",
     "name": "stdout",
     "text": "协程内部代码\n"
    }
   ],
   "source": [
    "import asyncio\n",
    "import nest_asyncio\n",
    "\n",
    "nest_asyncio.apply()\n",
    "async def func():\n",
    "    print(\"协程内部代码\")\n",
    "# 调用协程函数，返回一个协程对象。\n",
    "result = func()\n",
    "# 方式一\n",
    "# loop = asyncio.get_event_loop() # 创建一个事件循环\n",
    "# loop.run_until_complete(result) # 将协程当做任务提交到事件循环的任务列表中，协程执行完成之后终止。\n",
    "# 方式二\n",
    "# 本质上方式一是一样的，内部先 创建事件循环 然后执行 run_until_complete，一个简便的写法。\n",
    "# asyncio.run 函数在 Python 3.7 中加入 asyncio 模块，\n",
    "asyncio.run(result)"
   ]
  },
  {
   "cell_type": "markdown",
   "metadata": {},
   "source": [
    "## await"
   ]
  },
  {
   "cell_type": "markdown",
   "metadata": {},
   "source": [
    "- 例1"
   ]
  },
  {
   "cell_type": "code",
   "execution_count": 6,
   "metadata": {
    "tags": []
   },
   "outputs": [
    {
     "output_type": "stream",
     "name": "stdout",
     "text": "执行协程函数内部代码\nIO请求结束，结果为： None\n"
    }
   ],
   "source": [
    "import asyncio\n",
    "import nest_asyncio\n",
    "\n",
    "nest_asyncio.apply()\n",
    "async def func():\n",
    "    print(\"执行协程函数内部代码\")\n",
    "    # 遇到IO操作挂起当前协程（任务），等IO操作完成之后再继续往下执行。\n",
    "    # 当前协程挂起时，事件循环可以去执行其他协程（任务）。\n",
    "    response = await asyncio.sleep(2)\n",
    "    print(\"IO请求结束，结果为：\", response)\n",
    "result = func()\n",
    "asyncio.run(result)"
   ]
  },
  {
   "cell_type": "markdown",
   "metadata": {},
   "source": [
    "- 例2"
   ]
  },
  {
   "cell_type": "code",
   "execution_count": 8,
   "metadata": {
    "tags": []
   },
   "outputs": [
    {
     "output_type": "stream",
     "name": "stdout",
     "text": "执行协程函数内部代码\nstart\nend\nIO请求结束，结果为： 返回值\n"
    }
   ],
   "source": [
    "import asyncio\n",
    "import nest_asyncio\n",
    "\n",
    "nest_asyncio.apply()\n",
    "async def others():\n",
    "    print(\"start\")\n",
    "    await asyncio.sleep(2)\n",
    "    print('end')\n",
    "    return '返回值'\n",
    "async def func():\n",
    "    print(\"执行协程函数内部代码\")\n",
    "    # 遇到IO操作挂起当前协程（任务），等IO操作完成之后再继续往下执行。当前协程挂起时，事件循环可以去执行其他协程（任务）。\n",
    "    response = await others()\n",
    "    print(\"IO请求结束，结果为：\", response)\n",
    "asyncio.run( func() )"
   ]
  },
  {
   "cell_type": "markdown",
   "metadata": {},
   "source": [
    "- 例3"
   ]
  },
  {
   "cell_type": "code",
   "execution_count": 9,
   "metadata": {
    "tags": []
   },
   "outputs": [
    {
     "output_type": "stream",
     "name": "stdout",
     "text": "执行协程函数内部代码\nstart\nend\nIO请求结束，结果为： 返回值\nstart\nend\nIO请求结束，结果为： 返回值\n"
    }
   ],
   "source": [
    "import asyncio\n",
    "import nest_asyncio\n",
    "\n",
    "nest_asyncio.apply()\n",
    "\n",
    "async def others():\n",
    "    print(\"start\")\n",
    "    await asyncio.sleep(2)\n",
    "    print('end')\n",
    "    return '返回值'\n",
    "\n",
    "async def func():\n",
    "    print(\"执行协程函数内部代码\")\n",
    "    # 遇到IO操作挂起当前协程（任务），等IO操作完成之后再继续往下执行。当前协程挂起时，事件循环可以去执行其他协程（任务）。\n",
    "    response1 = await others()\n",
    "    print(\"IO请求结束，结果为：\", response1)\n",
    "    response2 = await others()\n",
    "    print(\"IO请求结束，结果为：\", response2)\n",
    "    \n",
    "asyncio.run( func() )"
   ]
  },
  {
   "cell_type": "markdown",
   "metadata": {},
   "source": [
    "## task对象"
   ]
  },
  {
   "cell_type": "markdown",
   "metadata": {},
   "source": [
    "- 例1"
   ]
  },
  {
   "cell_type": "code",
   "execution_count": 11,
   "metadata": {
    "tags": []
   },
   "outputs": [
    {
     "output_type": "stream",
     "name": "stdout",
     "text": "main开始\nmain结束\n1\n2\n11\n22\n返回值1\n 返回值2\n\n"
    }
   ],
   "source": [
    "import asyncio\n",
    "import nest_asyncio\n",
    "\n",
    "nest_asyncio.apply()\n",
    "async def func(num):\n",
    "    print(num)\n",
    "    await asyncio.sleep(2)\n",
    "    print(num * 10 + num)\n",
    "    return \"返回值\" + str(num) + '\\n'\n",
    "async def main():\n",
    "    print(\"main开始\")\n",
    "    # 创建协程，将协程封装到一个Task对象中并立即添加到事件循环的任务列表中，等待事件循环去执行（默认是就绪状态）。\n",
    "    task1 = asyncio.create_task(func(1))\n",
    "    # 创建协程，将协程封装到一个Task对象中并立即添加到事件循环的任务列表中，等待事件循环去执行（默认是就绪状态）。\n",
    "    task2 = asyncio.create_task(func(2))\n",
    "    print(\"main结束\")\n",
    "    # 当执行某协程遇到IO操作时，会自动化切换执行其他任务。\n",
    "    # 此处的await是等待相对应的协程全都执行完毕并获取结果\n",
    "    ret1 = await task1\n",
    "    ret2 = await task2\n",
    "    print(ret1, ret2)\n",
    "asyncio.run(main())"
   ]
  },
  {
   "cell_type": "markdown",
   "metadata": {},
   "source": [
    "- 例2"
   ]
  },
  {
   "cell_type": "code",
   "execution_count": 19,
   "metadata": {
    "tags": []
   },
   "outputs": [
    {
     "output_type": "stream",
     "name": "stdout",
     "text": "main开始\nmain结束\n1\n1\n2\n2\n{<Task finished coro=<func() done, defined at <ipython-input-19-4992b676d4cf>:5> result='返回值'>, <Task finished coro=<func() done, defined at <ipython-input-19-4992b676d4cf>:5> result='返回值'>} set()\n"
    }
   ],
   "source": [
    "import asyncio\n",
    "import nest_asyncio\n",
    "\n",
    "nest_asyncio.apply()\n",
    "async def func():\n",
    "    print(1)\n",
    "    await asyncio.sleep(2)\n",
    "    print(2)\n",
    "    return \"返回值\"\n",
    "async def main():\n",
    "    print(\"main开始\")\n",
    "    # 创建协程，将协程封装到Task对象中并添加到事件循环的任务列表中，等待事件循环去执行（默认是就绪状态）。\n",
    "    # 在调用\n",
    "    task_list = [\n",
    "        asyncio.create_task(func()),\n",
    "        asyncio.create_task(func())\n",
    "    ]\n",
    "    print(\"main结束\")\n",
    "    # 当执行某协程遇到IO操作时，会自动化切换执行其他任务。\n",
    "    # 此处的await是等待所有协程执行完毕，并将所有协程的返回值保存到done\n",
    "    # 如果设置了timeout值，则意味着此处最多等待的秒，完成的协程返回值写入到done中，未完成则写到pending中。\n",
    "    done, pending = await asyncio.wait(task_list, timeout=None)\n",
    "    print(done, pending)\n",
    "asyncio.run(main())"
   ]
  },
  {
   "cell_type": "markdown",
   "metadata": {},
   "source": [
    "## Future"
   ]
  },
  {
   "cell_type": "code",
   "execution_count": 20,
   "metadata": {
    "tags": []
   },
   "outputs": [
    {
     "output_type": "stream",
     "name": "stdout",
     "text": "666\n"
    }
   ],
   "source": [
    "import asyncio\n",
    "import nest_asyncio\n",
    "\n",
    "nest_asyncio.apply()\n",
    "\n",
    "async def set_after(fut):\n",
    "    await asyncio.sleep(2)\n",
    "    fut.set_result(\"666\")\n",
    "async def main():\n",
    "    # 获取当前事件循环\n",
    "    loop = asyncio.get_running_loop()\n",
    "    # 创建一个任务（Future对象），没绑定任何行为，则这个任务永远不知道什么时候结束。\n",
    "    fut = loop.create_future()\n",
    "    # 创建一个任务（Task对象），绑定了set_after函数，函数内部在2s之后，会给fut赋值。\n",
    "    # 即手动设置future任务的最终结果，那么fut就可以结束了。\n",
    "    await loop.create_task(set_after(fut))\n",
    "    # 等待 Future对象获取 最终结果，否则一直等下去\n",
    "    data = await fut\n",
    "    print(data)\n",
    "asyncio.run(main())"
   ]
  },
  {
   "cell_type": "markdown",
   "metadata": {},
   "source": [
    "## concurrent.futures.Future对象"
   ]
  },
  {
   "cell_type": "code",
   "execution_count": 21,
   "metadata": {
    "tags": []
   },
   "outputs": [
    {
     "output_type": "stream",
     "name": "stdout",
     "text": "<Future at 0x13ac385a488 state=running>\n<Future at 0x13ac37adec8 state=running>\n<Future at 0x13ac3909508 state=running>\n<Future at 0x13ac3acc288 state=running>\n<Future at 0x13ac418b5c8 state=running>\n<Future at 0x13ac3fca648 state=pending>\n<Future at 0x13ac3fcae88 state=pending>\n<Future at 0x13ac3fcaec8 state=pending>\n<Future at 0x13ac3fca188 state=pending>\n<Future at 0x13ac3614f88 state=pending>\n10\n\n234\n\n\n5\n9786\n\n\n\n"
    }
   ],
   "source": [
    "import time\n",
    "from concurrent.futures import Future\n",
    "from concurrent.futures.thread import ThreadPoolExecutor\n",
    "from concurrent.futures.process import ProcessPoolExecutor\n",
    "def func(value):\n",
    "    time.sleep(1)\n",
    "    print(value)\n",
    "pool = ThreadPoolExecutor(max_workers=5)\n",
    "# 或 pool = ProcessPoolExecutor(max_workers=5)\n",
    "for i in range(10):\n",
    "    fut = pool.submit(func, i)\n",
    "    print(fut)"
   ]
  },
  {
   "cell_type": "code",
   "execution_count": null,
   "metadata": {},
   "outputs": [],
   "source": []
  }
 ]
}